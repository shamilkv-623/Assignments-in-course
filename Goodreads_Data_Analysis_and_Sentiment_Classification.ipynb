{
  "nbformat": 4,
  "nbformat_minor": 0,
  "metadata": {
    "colab": {
      "provenance": [],
      "authorship_tag": "ABX9TyNry0cwZSY1bY3FcbsREvS2",
      "include_colab_link": true
    },
    "kernelspec": {
      "name": "python3",
      "display_name": "Python 3"
    },
    "language_info": {
      "name": "python"
    }
  },
  "cells": [
    {
      "cell_type": "markdown",
      "metadata": {
        "id": "view-in-github",
        "colab_type": "text"
      },
      "source": [
        "<a href=\"https://colab.research.google.com/github/shamilkv-623/Assignments-in-course/blob/main/Goodreads_Data_Analysis_and_Sentiment_Classification.ipynb\" target=\"_parent\"><img src=\"https://colab.research.google.com/assets/colab-badge.svg\" alt=\"Open In Colab\"/></a>"
      ]
    },
    {
      "cell_type": "code",
      "source": [
        "from google.colab import files\n",
        "files.upload()"
      ],
      "metadata": {
        "id": "od8UKM2W6rrS"
      },
      "execution_count": null,
      "outputs": []
    },
    {
      "cell_type": "markdown",
      "source": [
        "Which is the least used tag, i.e. mapped with the lowest number of books [book_tags.csv]? (In case of more than one tag, mention the tag id with the least numerical value) (N)"
      ],
      "metadata": {
        "id": "iG0N1qyf6C0u"
      }
    },
    {
      "cell_type": "code",
      "execution_count": null,
      "metadata": {
        "id": "Q3k4tdwG5euC"
      },
      "outputs": [],
      "source": [
        "import pandas as pd\n",
        "book_tags = pd.read_csv(\"book_tags.csv\")\n",
        "value_counts = book_tags[\"tag_id\"].value_counts()\n",
        "min_count = value_counts.min()\n",
        "value_counts[value_counts == min_count].index.min()"
      ]
    },
    {
      "cell_type": "markdown",
      "source": [
        "How many unique tags are there in the dataset [book_tags.csv] ? (N)"
      ],
      "metadata": {
        "id": "-MgmVdNL653S"
      }
    },
    {
      "cell_type": "code",
      "source": [
        "import pandas as pd\n",
        "book_tags = pd.read_csv(\"book_tags.csv\")\n",
        "book_tags[\"tag_id\"].nunique()"
      ],
      "metadata": {
        "id": "Vw-Gss1k6HaZ"
      },
      "execution_count": null,
      "outputs": []
    },
    {
      "cell_type": "markdown",
      "source": [
        " Which book (goodreads_book_id) is marked as to-read by most users [books.csv,toread.csv] ? (N)\n"
      ],
      "metadata": {
        "id": "ZobJU8Qe7BRu"
      }
    },
    {
      "cell_type": "code",
      "source": [
        "import pandas as pd\n",
        "books = pd.read_csv(\"books.csv\")\n",
        "to_read = pd.read_csv(\"toread.csv\")\n",
        "value_counts = to_read.groupby(\"book_id\")[\"user_id\"].nunique()\n",
        "books[books[\"book_id\"] == value_counts.idxmax()][\"goodreads_book_id\"].values[0]"
      ],
      "metadata": {
        "id": "Je_vcJBO7Apb"
      },
      "execution_count": null,
      "outputs": []
    },
    {
      "cell_type": "markdown",
      "source": [
        "How many books do not have an original title [books.csv] ? (N)"
      ],
      "metadata": {
        "id": "seixlFLC7Lz6"
      }
    },
    {
      "cell_type": "code",
      "source": [
        "import pandas as pd\n",
        "import numpy as np\n",
        "books = pd.read_csv(\"books.csv\")\n",
        "books[\"original_title\"].isna().sum()"
      ],
      "metadata": {
        "id": "LnYMgN5j7Hzk"
      },
      "execution_count": null,
      "outputs": []
    },
    {
      "cell_type": "markdown",
      "source": [
        "Which book (title) has the maximum number of ratings based on (work_ratings_count) [books.csv] ? (S)"
      ],
      "metadata": {
        "id": "cQpXnX1k7Swh"
      }
    },
    {
      "cell_type": "code",
      "source": [
        "import pandas as pd\n",
        "books = pd.read_csv(\"books.csv\")\n",
        "books.loc[books[\"work_ratings_count\"].idxmax()][\"title\"]"
      ],
      "metadata": {
        "id": "53O1wnUH7Ryq"
      },
      "execution_count": null,
      "outputs": []
    },
    {
      "cell_type": "markdown",
      "source": [
        "How many unique users are present in the dataset [ratings.csv]? (N)"
      ],
      "metadata": {
        "id": "4_EMFpdO7ZcE"
      }
    },
    {
      "cell_type": "code",
      "source": [
        "import pandas as pd\n",
        "ratings = pd.read_csv(\"ratings.csv\")\n",
        "ratings[\"user_id\"].nunique()"
      ],
      "metadata": {
        "id": "vhz0IY1Y7Yt9"
      },
      "execution_count": null,
      "outputs": []
    },
    {
      "cell_type": "markdown",
      "source": [
        "Which (tag_id) is the most frequently used ie. mapped with the highest number of books [book_tags.csv]? (In case of more than one tag, mention the tag id with the least numerical value) (N)"
      ],
      "metadata": {
        "id": "1i4xwExQ7iMi"
      }
    },
    {
      "cell_type": "code",
      "source": [
        "import pandas as pd\n",
        "book_tags = pd.read_csv(\"book_tags.csv\")\n",
        "value_counts = book_tags['tag_id'].value_counts()\n",
        "max_count = value_counts.max()\n",
        "value_counts[value_counts == max_count].index.min()"
      ],
      "metadata": {
        "id": "nWtfh7nQ7hhO"
      },
      "execution_count": null,
      "outputs": []
    },
    {
      "cell_type": "markdown",
      "source": [
        "How many unique books are present in the dataset ? Evaluate based on the 'book_id'? [books.csv] (N)"
      ],
      "metadata": {
        "id": "JVhpFAPW7rnd"
      }
    },
    {
      "cell_type": "code",
      "source": [
        "import pandas as pd\n",
        "books = pd.read_csv(\"books.csv\")\n",
        "books[\"book_id\"].nunique()"
      ],
      "metadata": {
        "id": "M3zTjodD7q_R"
      },
      "execution_count": null,
      "outputs": []
    },
    {
      "cell_type": "markdown",
      "source": [
        "Which book (goodreads_book_id) has the least number of count of tags given by the user ie. the book with minimum user records including all tags [book_tags.csv] ? (N)"
      ],
      "metadata": {
        "id": "lZftI8dD7vh0"
      }
    },
    {
      "cell_type": "code",
      "source": [
        "import pandas as pd\n",
        "book_tags = pd.read_csv(\"book_tags.csv\")\n",
        "value_counts = book_tags.groupby(\"goodreads_book_id\")[\"count\"].sum()\n",
        "value_counts[value_counts == value_counts.min()].index[0]"
      ],
      "metadata": {
        "id": "9uspBEbQ7u8k"
      },
      "execution_count": null,
      "outputs": []
    },
    {
      "cell_type": "markdown",
      "source": [
        "Predict sentiment using Textblob. How many positive titles (original_title) are there [books.csv] ? (cut-off >=0) N"
      ],
      "metadata": {
        "id": "Ih3fZ1aH74TP"
      }
    },
    {
      "cell_type": "code",
      "source": [
        "from textblob import TextBlob\n",
        "import pandas as pd\n",
        "import numpy as np\n",
        "books = pd.read_csv(\"books.csv\")\n",
        "books_cleaned = books.dropna(subset=[\"original_title\"])\n",
        "original_titles = books_cleaned[\"original_title\"].values\n",
        "[TextBlob(title).sentiment.polarity >= 0 for title in original_titles].count(True)"
      ],
      "metadata": {
        "id": "Xc6fEbAt73g7"
      },
      "execution_count": null,
      "outputs": []
    }
  ]
}